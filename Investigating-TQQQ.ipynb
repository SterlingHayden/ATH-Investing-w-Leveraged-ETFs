{
 "cells": [
  {
   "cell_type": "markdown",
   "metadata": {},
   "source": [
    "# TQQQ Demo"
   ]
  },
  {
   "cell_type": "code",
   "execution_count": 5,
   "metadata": {},
   "outputs": [
    {
     "name": "stdout",
     "output_type": "stream",
     "text": [
      "Downloading data for QQQ...\n"
     ]
    },
    {
     "data": {
      "text/html": [
       "<div>\n",
       "<style scoped>\n",
       "    .dataframe tbody tr th:only-of-type {\n",
       "        vertical-align: middle;\n",
       "    }\n",
       "\n",
       "    .dataframe tbody tr th {\n",
       "        vertical-align: top;\n",
       "    }\n",
       "\n",
       "    .dataframe thead th {\n",
       "        text-align: right;\n",
       "    }\n",
       "</style>\n",
       "<table border=\"1\" class=\"dataframe\">\n",
       "  <thead>\n",
       "    <tr style=\"text-align: right;\">\n",
       "      <th></th>\n",
       "      <th>Date</th>\n",
       "      <th>Open</th>\n",
       "      <th>High</th>\n",
       "      <th>Low</th>\n",
       "      <th>Close</th>\n",
       "      <th>Adj Close</th>\n",
       "      <th>Volume</th>\n",
       "      <th>Daily Return</th>\n",
       "      <th>Leveraged Return</th>\n",
       "      <th>Simulated Leveraged Price</th>\n",
       "    </tr>\n",
       "  </thead>\n",
       "  <tbody>\n",
       "    <tr>\n",
       "      <th>0</th>\n",
       "      <td>1999-03-10</td>\n",
       "      <td>51.12500</td>\n",
       "      <td>51.156250</td>\n",
       "      <td>50.28125</td>\n",
       "      <td>51.0625</td>\n",
       "      <td>43.417282</td>\n",
       "      <td>5232000</td>\n",
       "      <td>NaN</td>\n",
       "      <td>0.000000</td>\n",
       "      <td>43.417282</td>\n",
       "    </tr>\n",
       "    <tr>\n",
       "      <th>1</th>\n",
       "      <td>1999-03-11</td>\n",
       "      <td>51.43750</td>\n",
       "      <td>51.734375</td>\n",
       "      <td>50.31250</td>\n",
       "      <td>51.3125</td>\n",
       "      <td>43.629856</td>\n",
       "      <td>9688600</td>\n",
       "      <td>0.004896</td>\n",
       "      <td>0.014688</td>\n",
       "      <td>44.055004</td>\n",
       "    </tr>\n",
       "    <tr>\n",
       "      <th>2</th>\n",
       "      <td>1999-03-12</td>\n",
       "      <td>51.12500</td>\n",
       "      <td>51.156250</td>\n",
       "      <td>49.65625</td>\n",
       "      <td>50.0625</td>\n",
       "      <td>42.567009</td>\n",
       "      <td>8743600</td>\n",
       "      <td>-0.024361</td>\n",
       "      <td>-0.073082</td>\n",
       "      <td>40.835392</td>\n",
       "    </tr>\n",
       "    <tr>\n",
       "      <th>3</th>\n",
       "      <td>1999-03-15</td>\n",
       "      <td>50.43750</td>\n",
       "      <td>51.562500</td>\n",
       "      <td>49.90625</td>\n",
       "      <td>51.5000</td>\n",
       "      <td>43.789284</td>\n",
       "      <td>6369000</td>\n",
       "      <td>0.028714</td>\n",
       "      <td>0.086142</td>\n",
       "      <td>44.353051</td>\n",
       "    </tr>\n",
       "    <tr>\n",
       "      <th>4</th>\n",
       "      <td>1999-03-16</td>\n",
       "      <td>51.71875</td>\n",
       "      <td>52.156250</td>\n",
       "      <td>51.15625</td>\n",
       "      <td>51.9375</td>\n",
       "      <td>44.161285</td>\n",
       "      <td>4905800</td>\n",
       "      <td>0.008495</td>\n",
       "      <td>0.025486</td>\n",
       "      <td>45.483424</td>\n",
       "    </tr>\n",
       "  </tbody>\n",
       "</table>\n",
       "</div>"
      ],
      "text/plain": [
       "        Date      Open       High       Low    Close  Adj Close   Volume  \\\n",
       "0 1999-03-10  51.12500  51.156250  50.28125  51.0625  43.417282  5232000   \n",
       "1 1999-03-11  51.43750  51.734375  50.31250  51.3125  43.629856  9688600   \n",
       "2 1999-03-12  51.12500  51.156250  49.65625  50.0625  42.567009  8743600   \n",
       "3 1999-03-15  50.43750  51.562500  49.90625  51.5000  43.789284  6369000   \n",
       "4 1999-03-16  51.71875  52.156250  51.15625  51.9375  44.161285  4905800   \n",
       "\n",
       "   Daily Return  Leveraged Return  Simulated Leveraged Price  \n",
       "0           NaN          0.000000                  43.417282  \n",
       "1      0.004896          0.014688                  44.055004  \n",
       "2     -0.024361         -0.073082                  40.835392  \n",
       "3      0.028714          0.086142                  44.353051  \n",
       "4      0.008495          0.025486                  45.483424  "
      ]
     },
     "execution_count": 5,
     "metadata": {},
     "output_type": "execute_result"
    }
   ],
   "source": [
    "# Load in the desired ticker\n",
    "import simulate_data\n",
    "data = simulate_data.process_leveraged_data('QQQ', 3)\n",
    "data.head()"
   ]
  }
 ],
 "metadata": {
  "kernelspec": {
   "display_name": "ath_investing",
   "language": "python",
   "name": "python3"
  },
  "language_info": {
   "codemirror_mode": {
    "name": "ipython",
    "version": 3
   },
   "file_extension": ".py",
   "mimetype": "text/x-python",
   "name": "python",
   "nbconvert_exporter": "python",
   "pygments_lexer": "ipython3",
   "version": "3.13.0"
  }
 },
 "nbformat": 4,
 "nbformat_minor": 2
}
